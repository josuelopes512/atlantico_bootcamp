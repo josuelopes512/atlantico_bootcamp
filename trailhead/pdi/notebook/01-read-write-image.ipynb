{
 "cells": [
  {
   "cell_type": "markdown",
   "id": "46f8a458",
   "metadata": {},
   "source": [
    "# OpenCV Tutorial"
   ]
  },
  {
   "cell_type": "code",
   "execution_count": 8,
   "id": "5178037d",
   "metadata": {},
   "outputs": [
    {
     "name": "stdout",
     "output_type": "stream",
     "text": [
      "chess_gray.png\t     lena_out.png  page.jpg\t  woman.png\r\n",
      "flipped_seville.png  lena.png\t   red_roses.png\r\n"
     ]
    }
   ],
   "source": [
    "import cv2\n",
    "! ls ../data"
   ]
  },
  {
   "cell_type": "code",
   "execution_count": 2,
   "id": "9c5b92fd",
   "metadata": {},
   "outputs": [],
   "source": [
    "image = cv2.imread('../data/lena.png')"
   ]
  },
  {
   "cell_type": "code",
   "execution_count": 3,
   "id": "c49fbe39",
   "metadata": {},
   "outputs": [
    {
     "name": "stdout",
     "output_type": "stream",
     "text": [
      "Width(pixels): 512\n"
     ]
    }
   ],
   "source": [
    "print('Width(pixels): ', end='')\n",
    "print(image.shape[1])"
   ]
  },
  {
   "cell_type": "code",
   "execution_count": 4,
   "id": "384e24ba",
   "metadata": {},
   "outputs": [
    {
     "name": "stdout",
     "output_type": "stream",
     "text": [
      "Height(pixels): 512\n"
     ]
    }
   ],
   "source": [
    "print('Height(pixels): ', end='')\n",
    "print(image.shape[0])"
   ]
  },
  {
   "cell_type": "code",
   "execution_count": 5,
   "id": "f2b5e246",
   "metadata": {},
   "outputs": [
    {
     "name": "stdout",
     "output_type": "stream",
     "text": [
      "# of channels: 3\n"
     ]
    }
   ],
   "source": [
    "print('# of channels: ', end='')\n",
    "print(image.shape[2])"
   ]
  },
  {
   "cell_type": "code",
   "execution_count": 6,
   "id": "db8006b5",
   "metadata": {},
   "outputs": [],
   "source": [
    "cv2.imshow(\"Image\", image)\n",
    "cv2.waitKey(0)\n",
    "cv2.destroyAllWindows()"
   ]
  },
  {
   "cell_type": "code",
   "execution_count": 7,
   "id": "8cd31f38",
   "metadata": {},
   "outputs": [
    {
     "data": {
      "text/plain": [
       "True"
      ]
     },
     "execution_count": 7,
     "metadata": {},
     "output_type": "execute_result"
    }
   ],
   "source": [
    "cv2.imwrite(\"../data/lena_out.png\", image)"
   ]
  },
  {
   "cell_type": "code",
   "execution_count": null,
   "id": "5280bd89",
   "metadata": {},
   "outputs": [],
   "source": []
  }
 ],
 "metadata": {
  "kernelspec": {
   "display_name": "Python 3 (ipykernel)",
   "language": "python",
   "name": "python3"
  },
  "language_info": {
   "codemirror_mode": {
    "name": "ipython",
    "version": 3
   },
   "file_extension": ".py",
   "mimetype": "text/x-python",
   "name": "python",
   "nbconvert_exporter": "python",
   "pygments_lexer": "ipython3",
   "version": "3.8.10"
  }
 },
 "nbformat": 4,
 "nbformat_minor": 5
}
