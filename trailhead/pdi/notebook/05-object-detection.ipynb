{
 "cells": [
  {
   "cell_type": "code",
   "execution_count": 2,
   "id": "354cca2d",
   "metadata": {},
   "outputs": [],
   "source": [
    "import numpy as np \n",
    "import cv2 \n",
    "import mahotas"
   ]
  },
  {
   "cell_type": "code",
   "execution_count": 4,
   "id": "4cd39b6a",
   "metadata": {},
   "outputs": [],
   "source": [
    "def wait():\n",
    "    cv2.waitKey(0)\n",
    "    cv2.destroyAllWindows()\n",
    "  \n",
    "#Função para facilitar a escrita nas imagem \n",
    "def escreve(img, texto, cor=(255,0,0)):\n",
    "    fonte = cv2.FONT_HERSHEY_SIMPLEX \n",
    "    cv2.putText(img, texto, (10,20), fonte, 0.5, cor, 0, cv2.LINE_AA)\n"
   ]
  },
  {
   "cell_type": "code",
   "execution_count": 7,
   "id": "a3187b67",
   "metadata": {},
   "outputs": [
    {
     "ename": "ValueError",
     "evalue": "not enough values to unpack (expected 3, got 2)",
     "output_type": "error",
     "traceback": [
      "\u001b[0;31m---------------------------------------------------------------------------\u001b[0m",
      "\u001b[0;31mValueError\u001b[0m                                Traceback (most recent call last)",
      "Input \u001b[0;32mIn [7]\u001b[0m, in \u001b[0;36m<cell line: 23>\u001b[0;34m()\u001b[0m\n\u001b[1;32m     19\u001b[0m bordas \u001b[38;5;241m=\u001b[39m cv2\u001b[38;5;241m.\u001b[39mCanny(\u001b[38;5;28mbin\u001b[39m, \u001b[38;5;241m70\u001b[39m, \u001b[38;5;241m150\u001b[39m)  \n\u001b[1;32m     21\u001b[0m \u001b[38;5;66;03m#Passo 5: Identificação e contagem dos contornos da imagem \u001b[39;00m\n\u001b[1;32m     22\u001b[0m \u001b[38;5;66;03m#cv2.RETR_EXTERNAL = conta apenas os contornos externos \u001b[39;00m\n\u001b[0;32m---> 23\u001b[0m (lx, objetos, lx) \u001b[38;5;241m=\u001b[39m cv2\u001b[38;5;241m.\u001b[39mfindContours(bordas\u001b[38;5;241m.\u001b[39mcopy(), \n\u001b[1;32m     24\u001b[0m                                      cv2\u001b[38;5;241m.\u001b[39mRETR_EXTERNAL, \n\u001b[1;32m     25\u001b[0m                                      cv2\u001b[38;5;241m.\u001b[39mCHAIN_APPROX_SIMPLE) \u001b[38;5;66;03m#A variável lx (lixo) recebe dados que não são utilizados\u001b[39;00m\n\u001b[1;32m     26\u001b[0m escreve(img, \u001b[38;5;124m\"\u001b[39m\u001b[38;5;124mImagem em tons de cinza\u001b[39m\u001b[38;5;124m\"\u001b[39m, \u001b[38;5;241m0\u001b[39m) \n\u001b[1;32m     27\u001b[0m escreve(suave, \u001b[38;5;124m\"\u001b[39m\u001b[38;5;124mSuavizacao com Blur\u001b[39m\u001b[38;5;124m\"\u001b[39m, \u001b[38;5;241m0\u001b[39m) \n",
      "\u001b[0;31mValueError\u001b[0m: not enough values to unpack (expected 3, got 2)"
     ]
    }
   ],
   "source": [
    "    \n",
    "imgColorida = img = cv2.imread('../data/bridge.png') #Carregamento da imagem  \n",
    "\n",
    "#Se necessário o redimensioamento da imagem pode vir aqui.\n",
    "\n",
    "#Passo 1: Conversão para tons de cinza \n",
    "img = cv2.cvtColor(imgColorida, cv2.COLOR_BGR2GRAY)  \n",
    "\n",
    "#Passo 2: Blur/Suavização da imagem \n",
    "suave = cv2.blur(img, (7, 7))  \n",
    "\n",
    "#Passo 3: Binarização resultando em pixels brancos e pretos \n",
    "T = mahotas.thresholding.otsu(suave) \n",
    "bin = suave.copy() \n",
    "bin[bin > T] = 255 \n",
    "bin[bin < 255] = 0 \n",
    "bin = cv2.bitwise_not(bin)  \n",
    "\n",
    "#Passo 4: Detecção de bordas com Canny \n",
    "bordas = cv2.Canny(bin, 70, 150)  \n",
    "\n",
    "#Passo 5: Identificação e contagem dos contornos da imagem \n",
    "#cv2.RETR_EXTERNAL = conta apenas os contornos externos \n",
    "(lx, objetos, lx) = cv2.findContours(bordas.copy(), \n",
    "                                     cv2.RETR_EXTERNAL, \n",
    "                                     cv2.CHAIN_APPROX_SIMPLE) #A variável lx (lixo) recebe dados que não são utilizados\n",
    "escreve(img, \"Imagem em tons de cinza\", 0) \n",
    "escreve(suave, \"Suavizacao com Blur\", 0) \n",
    "escreve(bin, \"Binarizacao com Metodo Otsu\", 255) \n",
    "escreve(bordas, \"Detector de bordas Canny\", 255)\n",
    "temp = np.vstack([  np.hstack([img, suave]), np.hstack([bin, bordas]) ])   \n",
    "\n",
    "cv2.imshow(\"Quantidade de objetos: \"+str(len(objetos)), temp) \n",
    "wait()\n",
    "\n",
    "imgC2 = imgColorida.copy() \n",
    "cv2.imshow(\"Imagem Original\", imgColorida)\n",
    "cv2.drawContours(imgC2, objetos, -1, (255, 0, 0), 2) \n",
    "escreve(imgC2, str(len(objetos))+\" objetos encontrados!\") \n",
    "cv2.imshow(\"Resultado\", imgC2) \n",
    "wait()"
   ]
  }
 ],
 "metadata": {
  "kernelspec": {
   "display_name": "Python 3 (ipykernel)",
   "language": "python",
   "name": "python3"
  },
  "language_info": {
   "codemirror_mode": {
    "name": "ipython",
    "version": 3
   },
   "file_extension": ".py",
   "mimetype": "text/x-python",
   "name": "python",
   "nbconvert_exporter": "python",
   "pygments_lexer": "ipython3",
   "version": "3.8.10"
  }
 },
 "nbformat": 4,
 "nbformat_minor": 5
}
